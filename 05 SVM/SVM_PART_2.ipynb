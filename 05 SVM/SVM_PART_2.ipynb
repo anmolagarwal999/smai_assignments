{
 "cells": [
  {
   "cell_type": "markdown",
   "metadata": {},
   "source": [
    "#### Import necessary libraries"
   ]
  },
  {
   "cell_type": "code",
   "execution_count": 24,
   "metadata": {
    "id": "Ub9ArRIDI9qR"
   },
   "outputs": [],
   "source": [
    "import numpy as np\n",
    "import cvxpy as cp\n",
    "import matplotlib.pyplot as plt\n",
    "import seaborn as sn\n",
    "import pandas as pd\n",
    "import matplotlib.pyplot as plt\n",
    "from matplotlib.pyplot import figure\n",
    "from copy import deepcopy\n",
    "import json\n",
    "plt.rcParams[\"figure.figsize\"] = (12,8)\n"
   ]
  },
  {
   "cell_type": "markdown",
   "metadata": {
    "id": "7goMP4wFI9q0"
   },
   "source": [
    "### Subsection 2"
   ]
  },
  {
   "cell_type": "markdown",
   "metadata": {
    "id": "PZdBRpHuI9q0"
   },
   "source": [
    "!pip install python-mnist\n",
    "!rm -rf samples\n",
    "!mkdir samples\n",
    "!wget http://yann.lecun.com/exdb/mnist/train-images-idx3-ubyte.gz -P samples/\n",
    "!gunzip samples/train-images-idx3-ubyte.gz\n",
    "!wget http://yann.lecun.com/exdb/mnist/train-labels-idx1-ubyte.gz -P samples/\n",
    "!gunzip samples/train-labels-idx1-ubyte.gz\n",
    "!wget http://yann.lecun.com/exdb/mnist/t10k-images-idx3-ubyte.gz -P samples/\n",
    "!gunzip samples/t10k-images-idx3-ubyte.gz\n",
    "!wget http://yann.lecun.com/exdb/mnist/t10k-labels-idx1-ubyte.gz -P samples/\n",
    "!gunzip samples/t10k-labels-idx1-ubyte.gz"
   ]
  },
  {
   "cell_type": "code",
   "execution_count": 25,
   "metadata": {
    "id": "0XjsnEzVI9q1"
   },
   "outputs": [],
   "source": [
    "# Import Relevant Packages\n",
    "from sklearn.svm import SVC\n",
    "from sklearn.metrics import confusion_matrix\n",
    "from sklearn.model_selection import train_test_split\n",
    "from sklearn.metrics import accuracy_score\n",
    "from sklearn.metrics import f1_score\n",
    "import numpy as np\n",
    "from mnist.loader import MNIST"
   ]
  },
  {
   "cell_type": "code",
   "execution_count": 26,
   "metadata": {
    "id": "WvXDgQXsI9q1"
   },
   "outputs": [
    {
     "name": "stdout",
     "output_type": "stream",
     "text": [
      "(60000, 784)\n",
      "(60000,)\n"
     ]
    }
   ],
   "source": [
    "mndata = MNIST('samples')\n",
    "\n",
    "# Load training dataset\n",
    "images, labels = mndata.load_training()\n",
    "l = len(labels)\n",
    "images_train = np.array(images)\n",
    "labels_train = np.array(labels)\n",
    "\n",
    "print(images_train.shape)\n",
    "print(labels_train.shape)"
   ]
  },
  {
   "cell_type": "code",
   "execution_count": 27,
   "metadata": {},
   "outputs": [],
   "source": [
    "#images[0]"
   ]
  },
  {
   "cell_type": "code",
   "execution_count": 28,
   "metadata": {
    "id": "pqZ5EG36I9q2"
   },
   "outputs": [
    {
     "name": "stdout",
     "output_type": "stream",
     "text": [
      "(10000, 784)\n",
      "(10000,)\n"
     ]
    }
   ],
   "source": [
    "# Load testing dataset\n",
    "images, labels = mndata.load_testing()\n",
    "l = len(labels)\n",
    "images_test = np.array(images)\n",
    "labels_test = np.array(labels)\n",
    "\n",
    "print(images_test.shape)\n",
    "print(labels_test.shape)"
   ]
  },
  {
   "cell_type": "code",
   "execution_count": 29,
   "metadata": {},
   "outputs": [
    {
     "data": {
      "text/plain": [
       "10000"
      ]
     },
     "execution_count": 29,
     "metadata": {},
     "output_type": "execute_result"
    }
   ],
   "source": [
    "len(images)"
   ]
  },
  {
   "cell_type": "markdown",
   "metadata": {},
   "source": [
    "#### ==================================================="
   ]
  },
  {
   "cell_type": "markdown",
   "metadata": {
    "id": "N8F6VkaLI9q3"
   },
   "source": [
    "- Tweak different parameters like the C Parameter and gamma parameter of the Linear SVM and report the results.\n",
    "- Experiment different kernels for classification and report the results.\n",
    "\n",
    "Report accuracy score, F1-score, Confusion matrix and any other metrics you feel useful."
   ]
  },
  {
   "cell_type": "markdown",
   "metadata": {
    "id": "CztJyLokI9q3"
   },
   "source": [
    "### Make arrangements to reduce training data size\n",
    "#### I train on 27% ie 16200 samples of the training data (instead of all 60000) due to computational lease"
   ]
  },
  {
   "cell_type": "code",
   "execution_count": 30,
   "metadata": {},
   "outputs": [],
   "source": [
    "fraction_used=0.27\n",
    "images_train,_, labels_train,__ = train_test_split(images_train, labels_train, \\\n",
    "                                     test_size=1-fraction_used,\\\n",
    "                                     random_state=0, \\\n",
    "                                     stratify=labels_train)\n"
   ]
  },
  {
   "cell_type": "code",
   "execution_count": null,
   "metadata": {},
   "outputs": [],
   "source": []
  },
  {
   "cell_type": "code",
   "execution_count": 31,
   "metadata": {},
   "outputs": [
    {
     "data": {
      "text/plain": [
       "16200"
      ]
     },
     "execution_count": 31,
     "metadata": {},
     "output_type": "execute_result"
    }
   ],
   "source": [
    "len(images_train)"
   ]
  },
  {
   "cell_type": "code",
   "execution_count": 32,
   "metadata": {},
   "outputs": [],
   "source": [
    "#SVModel=SVC(C=100)"
   ]
  },
  {
   "cell_type": "code",
   "execution_count": 33,
   "metadata": {},
   "outputs": [
    {
     "name": "stdout",
     "output_type": "stream",
     "text": [
      "2021-12-05 02:49:43.060401\n"
     ]
    }
   ],
   "source": [
    "import datetime\n",
    "\n",
    "x = datetime.datetime.now()\n",
    "print(x)"
   ]
  },
  {
   "cell_type": "markdown",
   "metadata": {},
   "source": [
    "### Create a dictionary with all parameters"
   ]
  },
  {
   "cell_type": "code",
   "execution_count": 34,
   "metadata": {},
   "outputs": [],
   "source": [
    "#SVModel.fit(images_train, labels_train)"
   ]
  },
  {
   "cell_type": "code",
   "execution_count": 35,
   "metadata": {
    "scrolled": true
   },
   "outputs": [],
   "source": [
    "#confusion_matrix([x for x in labels_train], SVModel.predict(images_train))"
   ]
  },
  {
   "cell_type": "code",
   "execution_count": 36,
   "metadata": {},
   "outputs": [
    {
     "name": "stdout",
     "output_type": "stream",
     "text": [
      "2021-12-05 02:49:43.092124\n"
     ]
    }
   ],
   "source": [
    "import datetime\n",
    "\n",
    "x = datetime.datetime.now()\n",
    "print(x)"
   ]
  },
  {
   "cell_type": "markdown",
   "metadata": {},
   "source": [
    "### Calculate metrics for all"
   ]
  },
  {
   "cell_type": "code",
   "execution_count": 37,
   "metadata": {},
   "outputs": [
    {
     "data": {
      "text/plain": [
       "6"
      ]
     },
     "execution_count": 37,
     "metadata": {},
     "output_type": "execute_result"
    }
   ],
   "source": [
    "labels_train[0]"
   ]
  },
  {
   "cell_type": "code",
   "execution_count": 38,
   "metadata": {},
   "outputs": [],
   "source": [
    "def plot_confusion_matrix(mat):\n",
    "    num_cols=len(mat)\n",
    "    df_cm = pd.DataFrame(mat,index=[i for i in range(0,num_cols)],\n",
    "                      columns = [i for i in range(0,num_cols)])\n",
    "    plt.figure(figsize = (10,7))\n",
    "    sn.heatmap(df_cm, annot=True)"
   ]
  },
  {
   "cell_type": "code",
   "execution_count": 39,
   "metadata": {},
   "outputs": [
    {
     "data": {
      "text/plain": [
       "array([1.e-03, 1.e-02, 1.e-01, 1.e+00, 1.e+01, 1.e+02])"
      ]
     },
     "execution_count": 39,
     "metadata": {},
     "output_type": "execute_result"
    }
   ],
   "source": [
    "np.logspace(-3, 2, 6)"
   ]
  },
  {
   "cell_type": "code",
   "execution_count": 40,
   "metadata": {},
   "outputs": [],
   "source": [
    "#plot_confusion_matrix(confusion_matrix([x for x in labels_train], SVModel.predict(images_train)))"
   ]
  },
  {
   "cell_type": "code",
   "execution_count": 41,
   "metadata": {},
   "outputs": [],
   "source": [
    "model_list=[]\n",
    "FILE_PATH=\"./store_data/\""
   ]
  },
  {
   "cell_type": "markdown",
   "metadata": {},
   "source": [
    "## Linear kernel"
   ]
  },
  {
   "cell_type": "code",
   "execution_count": 42,
   "metadata": {},
   "outputs": [],
   "source": [
    "kernel_name=\"linear\"\n",
    "params_dict={\n",
    "    \"C\":np.logspace(-3, 2, 6)\n",
    "}"
   ]
  },
  {
   "cell_type": "code",
   "execution_count": null,
   "metadata": {},
   "outputs": [],
   "source": [
    "for curr_c_val in params_dict['C']:\n",
    "    SVModel=SVC(kernel=kernel_name,C=curr_c_val)\n",
    "    SVModel.fit(images_train, labels_train)\n",
    "    model_summary={\"kernel-type\":kernel_name,\"C\":curr_c_val }\n",
    "    train_arr=list(SVModel.predict(images_train))\n",
    "    test_arr=list(SVModel.predict(images_test))\n",
    "    model_summary['train-acc']=accuracy_score(labels_train, train_arr)\n",
    "    model_summary['test-acc']=accuracy_score(labels_test, test_arr)\n",
    "    model_summary['train-f1']=f1_score(labels_train, train_arr,average='macro')\n",
    "    model_summary['test-f1']=f1_score(labels_test, test_arr,average='macro')\n",
    "    model_list.append(deepcopy(model_summary))\n",
    "    file_name=\"\"\n",
    "    for curr_key, curr_val in model_summary.items():\n",
    "        if \"test\" in curr_key or \"train\" in curr_key:\n",
    "            continue\n",
    "        file_name+=curr_key+\"_\"+str(curr_val)+\"_\"\n",
    "    model_summary['train-arr']=train_arr\n",
    "    model_summary['test-arr']=test_arr\n",
    "    with open(FILE_PATH+file_name+\".json\",'w') as fd:\n",
    "        json.dump(model_summary,fd, indent=2,default=str)\n",
    "    with open(\"models_list.json\",'w') as fd:\n",
    "        json.dump(model_list,fd, indent=2 )"
   ]
  },
  {
   "cell_type": "markdown",
   "metadata": {},
   "source": [
    "### RBF KERNEL"
   ]
  },
  {
   "cell_type": "code",
   "execution_count": 43,
   "metadata": {},
   "outputs": [],
   "source": [
    "kernel_name=\"rbf\"\n",
    "params_dict={\n",
    "    \"C\":np.logspace(-2, 2, 2),\n",
    "    \"gamma\":list(np.logspace(-1, 2, 2))+['auto','scale']\n",
    "}"
   ]
  },
  {
   "cell_type": "code",
   "execution_count": 44,
   "metadata": {},
   "outputs": [
    {
     "data": {
      "text/plain": [
       "{'C': array([1.e-02, 1.e+02]), 'gamma': [0.1, 100.0, 'auto', 'scale']}"
      ]
     },
     "execution_count": 44,
     "metadata": {},
     "output_type": "execute_result"
    }
   ],
   "source": [
    "params_dict"
   ]
  },
  {
   "cell_type": "code",
   "execution_count": null,
   "metadata": {},
   "outputs": [],
   "source": [
    "for curr_c_val in params_dict['C']:\n",
    "    for curr_gamma_val in params_dict['gamma']:\n",
    "        SVModel=SVC(kernel=kernel_name,C=curr_c_val, gamma=curr_gamma_val)\n",
    "        SVModel.fit(images_train, labels_train)\n",
    "        model_summary={\"kernel-type\":kernel_name,\"C\":curr_c_val,\"gamma\":curr_gamma_val }\n",
    "        train_arr=list(SVModel.predict(images_train))\n",
    "        test_arr=list(SVModel.predict(images_test))\n",
    "        model_summary['train-acc']=accuracy_score(labels_train, train_arr)\n",
    "        model_summary['test-acc']=accuracy_score(labels_test, test_arr)\n",
    "        model_summary['train-f1']=f1_score(labels_train, train_arr,average='macro')\n",
    "        model_summary['test-f1']=f1_score(labels_test, test_arr,average='macro')\n",
    "        model_list.append(deepcopy(model_summary))\n",
    "        file_name=\"\"\n",
    "        for curr_key, curr_val in model_summary.items():\n",
    "            if \"test\" in curr_key or \"train\" in curr_key:\n",
    "                continue\n",
    "            file_name+=curr_key+\"_\"+str(curr_val)+\"_\"\n",
    "        model_summary['train-arr']=train_arr\n",
    "        model_summary['test-arr']=test_arr\n",
    "        with open(FILE_PATH+file_name+\".json\",'w') as fd:\n",
    "            json.dump(model_summary,fd, indent=2,default=str )\n",
    "        with open(\"models_list.json\",'w') as fd:\n",
    "            json.dump(model_list,fd, indent=2 )"
   ]
  },
  {
   "cell_type": "markdown",
   "metadata": {},
   "source": [
    "### Poly"
   ]
  },
  {
   "cell_type": "code",
   "execution_count": 45,
   "metadata": {},
   "outputs": [],
   "source": [
    "kernel_name=\"poly\"\n",
    "params_dict={\n",
    "    \"C\":np.logspace(-3, 2, 2),\n",
    "    \"gamma\":list(np.logspace(-1, 2, 2)),\n",
    "    'degree':[2,3]\n",
    "}"
   ]
  },
  {
   "cell_type": "code",
   "execution_count": 46,
   "metadata": {},
   "outputs": [
    {
     "data": {
      "text/plain": [
       "'poly'"
      ]
     },
     "execution_count": 46,
     "metadata": {},
     "output_type": "execute_result"
    }
   ],
   "source": [
    "kernel_name"
   ]
  },
  {
   "cell_type": "code",
   "execution_count": null,
   "metadata": {},
   "outputs": [],
   "source": []
  },
  {
   "cell_type": "markdown",
   "metadata": {},
   "source": [
    "for curr_c_val in params_dict['C']:\n",
    "    for curr_gamma_val in params_dict['gamma']:\n",
    "        for curr_deg_val in params_dict['degree']:\n",
    "            SVModel=SVC(kernel=kernel_name,C=curr_c_val, gamma=curr_gamma_val, degree=curr_deg_val)\n",
    "            SVModel.fit(images_train, labels_train)\n",
    "            model_summary={\"kernel-type\":kernel_name,\"C\":curr_c_val,\"gamma\":curr_gamma_val,\"degree\":curr_deg_val }\n",
    "            train_arr=list(SVModel.predict(images_train))\n",
    "            test_arr=list(SVModel.predict(images_test))\n",
    "            model_summary['train-acc']=accuracy_score(labels_train, train_arr)\n",
    "            model_summary['test-acc']=accuracy_score(labels_test, test_arr)\n",
    "            model_summary['train-f1']=f1_score(labels_train, train_arr,average='macro')\n",
    "            model_summary['test-f1']=f1_score(labels_test, test_arr,average='macro')\n",
    "            model_list.append(deepcopy(model_summary))\n",
    "            file_name=\"\"\n",
    "            for curr_key, curr_val in model_summary.items():\n",
    "                if \"test\" in curr_key or \"train\" in curr_key:\n",
    "                    continue\n",
    "                file_name+=curr_key+\"_\"+str(curr_val)+\"_\"\n",
    "            model_summary['train-arr']=train_arr\n",
    "            model_summary['test-arr']=test_arr\n",
    "            with open(FILE_PATH+file_name+\".json\",'w') as fd:\n",
    "                json.dump(model_summary,fd, indent=2,default=str )\n",
    "            with open(\"models_list.json\",'w') as fd:\n",
    "                json.dump(model_list,fd, indent=2 )"
   ]
  },
  {
   "cell_type": "markdown",
   "metadata": {},
   "source": [
    "### LOADING THE SAVED RESULTS"
   ]
  },
  {
   "cell_type": "code",
   "execution_count": 47,
   "metadata": {},
   "outputs": [],
   "source": [
    "import json\n",
    "import pandas as pd\n",
    "with open(\"./models_list.json\",'r') as fd:\n",
    "    df=json.load(fd)"
   ]
  },
  {
   "cell_type": "code",
   "execution_count": 48,
   "metadata": {},
   "outputs": [],
   "source": [
    "df=pd.DataFrame(df)"
   ]
  },
  {
   "cell_type": "code",
   "execution_count": 49,
   "metadata": {},
   "outputs": [],
   "source": [
    "df.sort_values(by='test-acc', ascending=False, inplace=True)"
   ]
  },
  {
   "cell_type": "markdown",
   "metadata": {},
   "source": [
    "## SUMMARY OF THE SCORES (sorted based on training accuracy)\n",
    "#### Intuition for the \"C\" parameter (also mentioned as slack variable in SVM_part_1 notebook)\n",
    "C = how much to penalize samples not on the correct side of the boundary\n",
    "The C parameter trades off correct classification of training examples against maximization of the decision function’s margin. For larger values of C, a smaller margin will be accepted if the decision function is better at classifying all training points correctly. A lower C will encourage a larger margin, therefore a simpler decision function, at the cost of training accuracy. \n",
    "\n",
    "#### Intuition for the \"gamma\" parameter \n",
    "For RBF and poly, the gamma parameter defines how far the influence of a single training example reaches, with low values meaning ‘far’ and high values meaning ‘close’.\n",
    "Gamma represents the extent of curvature we want in a decision boundary."
   ]
  },
  {
   "cell_type": "markdown",
   "metadata": {},
   "source": [
    "##### Conclusions\n",
    "* While RBF with high \"C\" seems to get the best result, it is evident that on average, irrespective of hyperparameters, the \"poly\" kernel performs the best. After that, the LINEAR kernel seems to perform the best on average and then RBF on average performs the worst. \n",
    "* Lower degree (2) variant of POLY peforms better than variant with degree=3\n",
    "* with models with bost high and low C_vals performing nicely, seems that for this dataset, C_val does not have any mind-bending influence.\n",
    "* for linear kernel, despite varying all sorts of parameters, result comes out to be the same. This might be because even a C_val of as low as 1e-3 is not low enough to justify more mis-classifications than is already the case. Since it is unlikely that a linear boundary was possible, it is highly likely that the global minimum occurred with some fixed number of samples outside the margin. "
   ]
  },
  {
   "cell_type": "code",
   "execution_count": 50,
   "metadata": {},
   "outputs": [
    {
     "data": {
      "text/plain": [
       "0.0012755102040816326"
      ]
     },
     "execution_count": 50,
     "metadata": {},
     "output_type": "execute_result"
    }
   ],
   "source": [
    "1/784"
   ]
  },
  {
   "cell_type": "code",
   "execution_count": 51,
   "metadata": {},
   "outputs": [],
   "source": [
    "df.loc[df.gamma == 'auto', 'gamma'] = 1/784"
   ]
  },
  {
   "cell_type": "code",
   "execution_count": 52,
   "metadata": {},
   "outputs": [
    {
     "data": {
      "text/html": [
       "<div>\n",
       "<style scoped>\n",
       "    .dataframe tbody tr th:only-of-type {\n",
       "        vertical-align: middle;\n",
       "    }\n",
       "\n",
       "    .dataframe tbody tr th {\n",
       "        vertical-align: top;\n",
       "    }\n",
       "\n",
       "    .dataframe thead th {\n",
       "        text-align: right;\n",
       "    }\n",
       "</style>\n",
       "<table border=\"1\" class=\"dataframe\">\n",
       "  <thead>\n",
       "    <tr style=\"text-align: right;\">\n",
       "      <th></th>\n",
       "      <th>kernel-type</th>\n",
       "      <th>C</th>\n",
       "      <th>train-acc</th>\n",
       "      <th>test-acc</th>\n",
       "      <th>train-f1</th>\n",
       "      <th>test-f1</th>\n",
       "      <th>gamma</th>\n",
       "      <th>degree</th>\n",
       "    </tr>\n",
       "  </thead>\n",
       "  <tbody>\n",
       "    <tr>\n",
       "      <th>16</th>\n",
       "      <td>rbf</td>\n",
       "      <td>1.000000e+02</td>\n",
       "      <td>1.000000</td>\n",
       "      <td>0.9741</td>\n",
       "      <td>1.000000</td>\n",
       "      <td>0.973854</td>\n",
       "      <td>scale</td>\n",
       "      <td>NaN</td>\n",
       "    </tr>\n",
       "    <tr>\n",
       "      <th>23</th>\n",
       "      <td>poly</td>\n",
       "      <td>1.000000e+02</td>\n",
       "      <td>1.000000</td>\n",
       "      <td>0.9699</td>\n",
       "      <td>1.000000</td>\n",
       "      <td>0.969577</td>\n",
       "      <td>100.0</td>\n",
       "      <td>2.0</td>\n",
       "    </tr>\n",
       "    <tr>\n",
       "      <th>21</th>\n",
       "      <td>poly</td>\n",
       "      <td>1.000000e+02</td>\n",
       "      <td>1.000000</td>\n",
       "      <td>0.9699</td>\n",
       "      <td>1.000000</td>\n",
       "      <td>0.969577</td>\n",
       "      <td>0.1</td>\n",
       "      <td>2.0</td>\n",
       "    </tr>\n",
       "    <tr>\n",
       "      <th>19</th>\n",
       "      <td>poly</td>\n",
       "      <td>1.000000e-03</td>\n",
       "      <td>1.000000</td>\n",
       "      <td>0.9699</td>\n",
       "      <td>1.000000</td>\n",
       "      <td>0.969577</td>\n",
       "      <td>100.0</td>\n",
       "      <td>2.0</td>\n",
       "    </tr>\n",
       "    <tr>\n",
       "      <th>17</th>\n",
       "      <td>poly</td>\n",
       "      <td>1.000000e-03</td>\n",
       "      <td>1.000000</td>\n",
       "      <td>0.9699</td>\n",
       "      <td>1.000000</td>\n",
       "      <td>0.969577</td>\n",
       "      <td>0.1</td>\n",
       "      <td>2.0</td>\n",
       "    </tr>\n",
       "    <tr>\n",
       "      <th>24</th>\n",
       "      <td>poly</td>\n",
       "      <td>1.000000e+02</td>\n",
       "      <td>1.000000</td>\n",
       "      <td>0.9666</td>\n",
       "      <td>1.000000</td>\n",
       "      <td>0.966300</td>\n",
       "      <td>100.0</td>\n",
       "      <td>3.0</td>\n",
       "    </tr>\n",
       "    <tr>\n",
       "      <th>22</th>\n",
       "      <td>poly</td>\n",
       "      <td>1.000000e+02</td>\n",
       "      <td>1.000000</td>\n",
       "      <td>0.9666</td>\n",
       "      <td>1.000000</td>\n",
       "      <td>0.966300</td>\n",
       "      <td>0.1</td>\n",
       "      <td>3.0</td>\n",
       "    </tr>\n",
       "    <tr>\n",
       "      <th>20</th>\n",
       "      <td>poly</td>\n",
       "      <td>1.000000e-03</td>\n",
       "      <td>1.000000</td>\n",
       "      <td>0.9666</td>\n",
       "      <td>1.000000</td>\n",
       "      <td>0.966300</td>\n",
       "      <td>100.0</td>\n",
       "      <td>3.0</td>\n",
       "    </tr>\n",
       "    <tr>\n",
       "      <th>18</th>\n",
       "      <td>poly</td>\n",
       "      <td>1.000000e-03</td>\n",
       "      <td>1.000000</td>\n",
       "      <td>0.9666</td>\n",
       "      <td>1.000000</td>\n",
       "      <td>0.966300</td>\n",
       "      <td>0.1</td>\n",
       "      <td>3.0</td>\n",
       "    </tr>\n",
       "    <tr>\n",
       "      <th>5</th>\n",
       "      <td>linear</td>\n",
       "      <td>1.000000e-07</td>\n",
       "      <td>0.935370</td>\n",
       "      <td>0.9322</td>\n",
       "      <td>0.934600</td>\n",
       "      <td>0.931245</td>\n",
       "      <td>NaN</td>\n",
       "      <td>NaN</td>\n",
       "    </tr>\n",
       "    <tr>\n",
       "      <th>1</th>\n",
       "      <td>linear</td>\n",
       "      <td>1.000000e-02</td>\n",
       "      <td>1.000000</td>\n",
       "      <td>0.9091</td>\n",
       "      <td>1.000000</td>\n",
       "      <td>0.907467</td>\n",
       "      <td>NaN</td>\n",
       "      <td>NaN</td>\n",
       "    </tr>\n",
       "    <tr>\n",
       "      <th>0</th>\n",
       "      <td>linear</td>\n",
       "      <td>1.000000e-03</td>\n",
       "      <td>1.000000</td>\n",
       "      <td>0.9091</td>\n",
       "      <td>1.000000</td>\n",
       "      <td>0.907467</td>\n",
       "      <td>NaN</td>\n",
       "      <td>NaN</td>\n",
       "    </tr>\n",
       "    <tr>\n",
       "      <th>8</th>\n",
       "      <td>linear</td>\n",
       "      <td>1.000000e+02</td>\n",
       "      <td>1.000000</td>\n",
       "      <td>0.9091</td>\n",
       "      <td>1.000000</td>\n",
       "      <td>0.907467</td>\n",
       "      <td>NaN</td>\n",
       "      <td>NaN</td>\n",
       "    </tr>\n",
       "    <tr>\n",
       "      <th>7</th>\n",
       "      <td>linear</td>\n",
       "      <td>1.000000e+03</td>\n",
       "      <td>1.000000</td>\n",
       "      <td>0.9091</td>\n",
       "      <td>1.000000</td>\n",
       "      <td>0.907467</td>\n",
       "      <td>NaN</td>\n",
       "      <td>NaN</td>\n",
       "    </tr>\n",
       "    <tr>\n",
       "      <th>6</th>\n",
       "      <td>linear</td>\n",
       "      <td>1.000000e+05</td>\n",
       "      <td>1.000000</td>\n",
       "      <td>0.9091</td>\n",
       "      <td>1.000000</td>\n",
       "      <td>0.907467</td>\n",
       "      <td>NaN</td>\n",
       "      <td>NaN</td>\n",
       "    </tr>\n",
       "    <tr>\n",
       "      <th>4</th>\n",
       "      <td>linear</td>\n",
       "      <td>1.000000e+01</td>\n",
       "      <td>1.000000</td>\n",
       "      <td>0.9091</td>\n",
       "      <td>1.000000</td>\n",
       "      <td>0.907467</td>\n",
       "      <td>NaN</td>\n",
       "      <td>NaN</td>\n",
       "    </tr>\n",
       "    <tr>\n",
       "      <th>3</th>\n",
       "      <td>linear</td>\n",
       "      <td>1.000000e+00</td>\n",
       "      <td>1.000000</td>\n",
       "      <td>0.9091</td>\n",
       "      <td>1.000000</td>\n",
       "      <td>0.907467</td>\n",
       "      <td>NaN</td>\n",
       "      <td>NaN</td>\n",
       "    </tr>\n",
       "    <tr>\n",
       "      <th>2</th>\n",
       "      <td>linear</td>\n",
       "      <td>1.000000e-01</td>\n",
       "      <td>1.000000</td>\n",
       "      <td>0.9091</td>\n",
       "      <td>1.000000</td>\n",
       "      <td>0.907467</td>\n",
       "      <td>NaN</td>\n",
       "      <td>NaN</td>\n",
       "    </tr>\n",
       "    <tr>\n",
       "      <th>12</th>\n",
       "      <td>rbf</td>\n",
       "      <td>1.000000e-02</td>\n",
       "      <td>0.866296</td>\n",
       "      <td>0.8732</td>\n",
       "      <td>0.864524</td>\n",
       "      <td>0.871176</td>\n",
       "      <td>scale</td>\n",
       "      <td>NaN</td>\n",
       "    </tr>\n",
       "    <tr>\n",
       "      <th>11</th>\n",
       "      <td>rbf</td>\n",
       "      <td>1.000000e-02</td>\n",
       "      <td>0.112346</td>\n",
       "      <td>0.1135</td>\n",
       "      <td>0.020200</td>\n",
       "      <td>0.020386</td>\n",
       "      <td>0.001276</td>\n",
       "      <td>NaN</td>\n",
       "    </tr>\n",
       "    <tr>\n",
       "      <th>13</th>\n",
       "      <td>rbf</td>\n",
       "      <td>1.000000e+02</td>\n",
       "      <td>1.000000</td>\n",
       "      <td>0.1135</td>\n",
       "      <td>1.000000</td>\n",
       "      <td>0.020386</td>\n",
       "      <td>0.1</td>\n",
       "      <td>NaN</td>\n",
       "    </tr>\n",
       "    <tr>\n",
       "      <th>14</th>\n",
       "      <td>rbf</td>\n",
       "      <td>1.000000e+02</td>\n",
       "      <td>1.000000</td>\n",
       "      <td>0.1135</td>\n",
       "      <td>1.000000</td>\n",
       "      <td>0.020386</td>\n",
       "      <td>100.0</td>\n",
       "      <td>NaN</td>\n",
       "    </tr>\n",
       "    <tr>\n",
       "      <th>15</th>\n",
       "      <td>rbf</td>\n",
       "      <td>1.000000e+02</td>\n",
       "      <td>1.000000</td>\n",
       "      <td>0.1135</td>\n",
       "      <td>1.000000</td>\n",
       "      <td>0.020386</td>\n",
       "      <td>0.001276</td>\n",
       "      <td>NaN</td>\n",
       "    </tr>\n",
       "    <tr>\n",
       "      <th>10</th>\n",
       "      <td>rbf</td>\n",
       "      <td>1.000000e-02</td>\n",
       "      <td>0.112346</td>\n",
       "      <td>0.1135</td>\n",
       "      <td>0.020200</td>\n",
       "      <td>0.020386</td>\n",
       "      <td>100.0</td>\n",
       "      <td>NaN</td>\n",
       "    </tr>\n",
       "    <tr>\n",
       "      <th>9</th>\n",
       "      <td>rbf</td>\n",
       "      <td>1.000000e-02</td>\n",
       "      <td>0.112346</td>\n",
       "      <td>0.1135</td>\n",
       "      <td>0.020200</td>\n",
       "      <td>0.020386</td>\n",
       "      <td>0.1</td>\n",
       "      <td>NaN</td>\n",
       "    </tr>\n",
       "  </tbody>\n",
       "</table>\n",
       "</div>"
      ],
      "text/plain": [
       "   kernel-type             C  train-acc  test-acc  train-f1   test-f1  \\\n",
       "16         rbf  1.000000e+02   1.000000    0.9741  1.000000  0.973854   \n",
       "23        poly  1.000000e+02   1.000000    0.9699  1.000000  0.969577   \n",
       "21        poly  1.000000e+02   1.000000    0.9699  1.000000  0.969577   \n",
       "19        poly  1.000000e-03   1.000000    0.9699  1.000000  0.969577   \n",
       "17        poly  1.000000e-03   1.000000    0.9699  1.000000  0.969577   \n",
       "24        poly  1.000000e+02   1.000000    0.9666  1.000000  0.966300   \n",
       "22        poly  1.000000e+02   1.000000    0.9666  1.000000  0.966300   \n",
       "20        poly  1.000000e-03   1.000000    0.9666  1.000000  0.966300   \n",
       "18        poly  1.000000e-03   1.000000    0.9666  1.000000  0.966300   \n",
       "5       linear  1.000000e-07   0.935370    0.9322  0.934600  0.931245   \n",
       "1       linear  1.000000e-02   1.000000    0.9091  1.000000  0.907467   \n",
       "0       linear  1.000000e-03   1.000000    0.9091  1.000000  0.907467   \n",
       "8       linear  1.000000e+02   1.000000    0.9091  1.000000  0.907467   \n",
       "7       linear  1.000000e+03   1.000000    0.9091  1.000000  0.907467   \n",
       "6       linear  1.000000e+05   1.000000    0.9091  1.000000  0.907467   \n",
       "4       linear  1.000000e+01   1.000000    0.9091  1.000000  0.907467   \n",
       "3       linear  1.000000e+00   1.000000    0.9091  1.000000  0.907467   \n",
       "2       linear  1.000000e-01   1.000000    0.9091  1.000000  0.907467   \n",
       "12         rbf  1.000000e-02   0.866296    0.8732  0.864524  0.871176   \n",
       "11         rbf  1.000000e-02   0.112346    0.1135  0.020200  0.020386   \n",
       "13         rbf  1.000000e+02   1.000000    0.1135  1.000000  0.020386   \n",
       "14         rbf  1.000000e+02   1.000000    0.1135  1.000000  0.020386   \n",
       "15         rbf  1.000000e+02   1.000000    0.1135  1.000000  0.020386   \n",
       "10         rbf  1.000000e-02   0.112346    0.1135  0.020200  0.020386   \n",
       "9          rbf  1.000000e-02   0.112346    0.1135  0.020200  0.020386   \n",
       "\n",
       "       gamma  degree  \n",
       "16     scale     NaN  \n",
       "23     100.0     2.0  \n",
       "21       0.1     2.0  \n",
       "19     100.0     2.0  \n",
       "17       0.1     2.0  \n",
       "24     100.0     3.0  \n",
       "22       0.1     3.0  \n",
       "20     100.0     3.0  \n",
       "18       0.1     3.0  \n",
       "5        NaN     NaN  \n",
       "1        NaN     NaN  \n",
       "0        NaN     NaN  \n",
       "8        NaN     NaN  \n",
       "7        NaN     NaN  \n",
       "6        NaN     NaN  \n",
       "4        NaN     NaN  \n",
       "3        NaN     NaN  \n",
       "2        NaN     NaN  \n",
       "12     scale     NaN  \n",
       "11  0.001276     NaN  \n",
       "13       0.1     NaN  \n",
       "14     100.0     NaN  \n",
       "15  0.001276     NaN  \n",
       "10     100.0     NaN  \n",
       "9        0.1     NaN  "
      ]
     },
     "execution_count": 52,
     "metadata": {},
     "output_type": "execute_result"
    }
   ],
   "source": [
    "df"
   ]
  },
  {
   "cell_type": "markdown",
   "metadata": {},
   "source": [
    "# Now, I will show the confusion matrices for some important models from above. I choose one from each linear, poly and rbf for analysis."
   ]
  },
  {
   "cell_type": "markdown",
   "metadata": {},
   "source": [
    "### KERNEL = rbf, C=100, GAMMA=scale"
   ]
  },
  {
   "cell_type": "code",
   "execution_count": 53,
   "metadata": {},
   "outputs": [],
   "source": [
    "file_name=\"kernel-type_rbf_C_100.0_gamma_scale_.json\"\n",
    "with open(f\"./store_data/{file_name}\",'r') as fd:\n",
    "    check_df=json.load(fd)"
   ]
  },
  {
   "cell_type": "code",
   "execution_count": 54,
   "metadata": {
    "scrolled": true
   },
   "outputs": [
    {
     "name": "stdout",
     "output_type": "stream",
     "text": [
      "test-f1 score is  0.9738538745732329\n",
      "test-acc score is  0.9741\n"
     ]
    }
   ],
   "source": [
    "print(\"test-f1 score is \", check_df['test-f1'])\n",
    "print(\"test-acc score is \", check_df['test-acc'])"
   ]
  },
  {
   "cell_type": "code",
   "execution_count": 59,
   "metadata": {},
   "outputs": [],
   "source": [
    "y_pred=[int(x) for x in check_df['test-arr']]"
   ]
  },
  {
   "cell_type": "code",
   "execution_count": 61,
   "metadata": {},
   "outputs": [],
   "source": [
    "conf_mat=confusion_matrix([x for x in labels_test], y_pred)"
   ]
  },
  {
   "cell_type": "markdown",
   "metadata": {},
   "source": [
    "#### Inferences from confusion matrix\n",
    "We notice that some numbers have been particularly mis-classified due to looking visually similar:\n",
    "* 9 confused with 4 and vice vera\n",
    "* 2 confused with 7\n",
    "* 9 confused with 7"
   ]
  },
  {
   "cell_type": "code",
   "execution_count": 62,
   "metadata": {},
   "outputs": [
    {
     "data": {
      "image/png": "[encoded data removed]",
      "text/plain": [
       "<Figure size 720x504 with 2 Axes>"
      ]
     },
     "metadata": {
      "needs_background": "light"
     },
     "output_type": "display_data"
    }
   ],
   "source": [
    "plot_confusion_matrix(conf_mat)"
   ]
  },
  {
   "cell_type": "markdown",
   "metadata": {},
   "source": [
    "## =================="
   ]
  },
  {
   "cell_type": "markdown",
   "metadata": {},
   "source": [
    "### KERNEL = linear"
   ]
  },
  {
   "cell_type": "code",
   "execution_count": 64,
   "metadata": {},
   "outputs": [],
   "source": [
    "file_name=\"kernel-type_linear_C_0.001_.json\"\n",
    "with open(f\"./store_data/{file_name}\",'r') as fd:\n",
    "    check_df=json.load(fd)"
   ]
  },
  {
   "cell_type": "code",
   "execution_count": 65,
   "metadata": {
    "scrolled": true
   },
   "outputs": [
    {
     "name": "stdout",
     "output_type": "stream",
     "text": [
      "test-f1 score is  0.9074667394767924\n",
      "test-acc score is  0.9091\n"
     ]
    }
   ],
   "source": [
    "print(\"test-f1 score is \", check_df['test-f1'])\n",
    "print(\"test-acc score is \", check_df['test-acc'])"
   ]
  },
  {
   "cell_type": "code",
   "execution_count": 66,
   "metadata": {},
   "outputs": [],
   "source": [
    "y_pred=[int(x) for x in check_df['test-arr']]"
   ]
  },
  {
   "cell_type": "code",
   "execution_count": 67,
   "metadata": {},
   "outputs": [],
   "source": [
    "conf_mat=confusion_matrix([x for x in labels_test], y_pred)"
   ]
  },
  {
   "cell_type": "markdown",
   "metadata": {},
   "source": [
    "#### Inferences from confusion matrix\n",
    "Here , we see some high misses.\n",
    "* 4 confused with 9 and vice versa\n",
    "* 3, 5 and 8 confused among each other\n",
    "* 7 confused with 9"
   ]
  },
  {
   "cell_type": "code",
   "execution_count": 68,
   "metadata": {},
   "outputs": [
    {
     "data": {
      "image/png": "[encoded data removed]",
      "text/plain": [
       "<Figure size 720x504 with 2 Axes>"
      ]
     },
     "metadata": {
      "needs_background": "light"
     },
     "output_type": "display_data"
    }
   ],
   "source": [
    "plot_confusion_matrix(conf_mat)"
   ]
  },
  {
   "cell_type": "markdown",
   "metadata": {},
   "source": [
    "## ============================"
   ]
  },
  {
   "cell_type": "markdown",
   "metadata": {},
   "source": [
    "### KERNEL = POLY, C=100, gamma=100, degree=2"
   ]
  },
  {
   "cell_type": "code",
   "execution_count": 70,
   "metadata": {},
   "outputs": [],
   "source": [
    "file_name=\"kernel-type_poly_C_100.0_gamma_100.0_degree_2_.json\"\n",
    "with open(f\"./store_data/{file_name}\",'r') as fd:\n",
    "    check_df=json.load(fd)"
   ]
  },
  {
   "cell_type": "code",
   "execution_count": 71,
   "metadata": {
    "scrolled": true
   },
   "outputs": [
    {
     "name": "stdout",
     "output_type": "stream",
     "text": [
      "test-f1 score is  0.9695768310396156\n",
      "test-acc score is  0.9699\n"
     ]
    }
   ],
   "source": [
    "print(\"test-f1 score is \", check_df['test-f1'])\n",
    "print(\"test-acc score is \", check_df['test-acc'])"
   ]
  },
  {
   "cell_type": "code",
   "execution_count": 72,
   "metadata": {},
   "outputs": [],
   "source": [
    "y_pred=[int(x) for x in check_df['test-arr']]"
   ]
  },
  {
   "cell_type": "code",
   "execution_count": 73,
   "metadata": {},
   "outputs": [],
   "source": [
    "conf_mat=confusion_matrix([x for x in labels_test], y_pred)"
   ]
  },
  {
   "cell_type": "markdown",
   "metadata": {},
   "source": [
    "#### Inferences from confusion matrix\n",
    "Here , we see some high misses.\n",
    "* Again, we see 4,7 and 9 getting missed by the model\n",
    "* also, 3 and 5 also getting mixed up"
   ]
  },
  {
   "cell_type": "code",
   "execution_count": 74,
   "metadata": {},
   "outputs": [
    {
     "data": {
      "image/png": "[encoded data removed]",
      "text/plain": [
       "<Figure size 720x504 with 2 Axes>"
      ]
     },
     "metadata": {
      "needs_background": "light"
     },
     "output_type": "display_data"
    }
   ],
   "source": [
    "plot_confusion_matrix(conf_mat)"
   ]
  },
  {
   "cell_type": "code",
   "execution_count": null,
   "metadata": {},
   "outputs": [],
   "source": []
  },
  {
   "cell_type": "code",
   "execution_count": null,
   "metadata": {},
   "outputs": [],
   "source": []
  }
 ],
 "metadata": {
  "colab": {
   "name": "SVM.ipynb",
   "provenance": []
  },
  "kernelspec": {
   "display_name": "Python 3",
   "language": "python",
   "name": "python3"
  },
  "language_info": {
   "codemirror_mode": {
    "name": "ipython",
    "version": 3
   },
   "file_extension": ".py",
   "mimetype": "text/x-python",
   "name": "python",
   "nbconvert_exporter": "python",
   "pygments_lexer": "ipython3",
   "version": "3.7.6"
  }
 },
 "nbformat": 4,
 "nbformat_minor": 1
}
